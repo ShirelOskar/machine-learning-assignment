{
 "cells": [
  {
   "cell_type": "markdown",
   "metadata": {},
   "source": [
    "# Assignment 5 - Text Analysis\n",
    "An explanation this assignment could be found in the .pdf explanation document"
   ]
  },
  {
   "cell_type": "markdown",
   "metadata": {},
   "source": [
    "\n",
    "## Materials to review for this assignment\n",
    "<h4>From Moodle:</h4> \n",
    "<h5><u>Review the notebooks regarding the following python topics</u>:</h5>\n",
    "<div class=\"alert alert-info\">\n",
    "&#x2714; <b>Working with strings</b> (tutorial notebook)<br/>\n",
    "&#x2714; <b>Text Analysis</b> (tutorial notebook)<br/>\n",
    "&#x2714; <b>Hebrew text analysis tools (tokenizer, wordnet)</b> (moodle example)<br/>\n",
    "&#x2714; <b>(brief review) All previous notebooks</b><br/>\n",
    "</div> \n",
    "<h5><u>Review the presentations regarding the following topics</u>:</h5>\n",
    "<div class=\"alert alert-info\">\n",
    "&#x2714; <b>Text Analysis</b> (lecture presentation)<br/>\n",
    "&#x2714; <b>(brief review) All other presentations</b><br/>\n",
    "</div>"
   ]
  },
  {
   "cell_type": "markdown",
   "metadata": {},
   "source": [
    "## Preceding Step - import modules (packages)\n",
    "This step is necessary in order to use external modules (packages). <br/>"
   ]
  },
  {
   "cell_type": "code",
   "execution_count": 1,
   "metadata": {},
   "outputs": [],
   "source": [
    "# --------------------------------------\n",
    "import pandas as pd\n",
    "import numpy as np\n",
    "# --------------------------------------\n",
    "\n",
    "\n",
    "# --------------------------------------\n",
    "# ------------- visualizations:\n",
    "import seaborn as sns\n",
    "import matplotlib.pyplot as plt\n",
    "from matplotlib.colors import ListedColormap\n",
    "# --------------------------------------\n",
    "\n",
    "\n",
    "# ---------------------------------------\n",
    "import sklearn\n",
    "from sklearn import preprocessing, metrics, pipeline, model_selection, feature_extraction \n",
    "from sklearn import naive_bayes, linear_model, svm, neural_network, neighbors, tree\n",
    "from sklearn import decomposition, cluster\n",
    "\n",
    "from sklearn.model_selection import train_test_split, cross_val_score, GridSearchCV \n",
    "from sklearn.pipeline import Pipeline\n",
    "from sklearn.metrics import accuracy_score, confusion_matrix\n",
    "from sklearn.metrics import precision_score, recall_score, f1_score\n",
    "from sklearn.metrics import mean_squared_error, r2_score, silhouette_score\n",
    "from sklearn.preprocessing import MinMaxScaler, StandardScaler, LabelEncoder\n",
    "\n",
    "from sklearn.svm import LinearSVC\n",
    "from sklearn.neural_network import MLPClassifier\n",
    "from sklearn.linear_model import Perceptron, SGDClassifier\n",
    "from sklearn.decomposition import PCA\n",
    "from sklearn.cluster import KMeans\n",
    "from sklearn.naive_bayes import MultinomialNB, GaussianNB\n",
    "from sklearn.neighbors import KNeighborsClassifier\n",
    "from sklearn.tree import DecisionTreeClassifier\n",
    "# ---------------------------------------\n",
    "\n",
    "\n",
    "# ----------------- output and visualizations: \n",
    "import warnings\n",
    "from sklearn.exceptions import ConvergenceWarning\n",
    "warnings.simplefilter(\"ignore\")\n",
    "warnings.simplefilter(action='ignore', category=FutureWarning)\n",
    "warnings.simplefilter(\"ignore\", category=ConvergenceWarning)\n",
    "# show several prints in one cell. This will allow us to condence every trick in one cell.\n",
    "from IPython.core.interactiveshell import InteractiveShell\n",
    "InteractiveShell.ast_node_interactivity = \"all\"\n",
    "%matplotlib inline\n",
    "pd.pandas.set_option('display.max_columns', None)\n",
    "pd.set_option('display.float_format', lambda x: '%.3f' % x)\n",
    "# ---------------------------------------"
   ]
  },
  {
   "cell_type": "markdown",
   "metadata": {},
   "source": [
    "### Text analysis and String manipulation imports:"
   ]
  },
  {
   "cell_type": "code",
   "execution_count": 2,
   "metadata": {},
   "outputs": [],
   "source": [
    "# --------------------------------------\n",
    "# --------- Text analysis and Hebrew text analysis imports:\n",
    "# vectorizers:\n",
    "from sklearn.feature_extraction import text\n",
    "from sklearn.feature_extraction.text import CountVectorizer, TfidfVectorizer\n",
    "\n",
    "# regular expressions:\n",
    "import re\n",
    "# --------------------------------------"
   ]
  },
  {
   "cell_type": "markdown",
   "metadata": {},
   "source": [
    "### (optional) Hebrew text analysis - WordNet (for Hebrew)\n",
    "Note: the WordNet is not a must"
   ]
  },
  {
   "cell_type": "markdown",
   "metadata": {},
   "source": [
    "#### (optional) Only if you didn't install Wordnet (for Hebrew) use:"
   ]
  },
  {
   "cell_type": "code",
   "execution_count": 3,
   "metadata": {},
   "outputs": [],
   "source": [
    "# word net installation:\n",
    "\n",
    "# unmark if you want to use and need to install\n",
    "# !pip install wn\n",
    "# !python -m wn download omw-he:1.4"
   ]
  },
  {
   "cell_type": "code",
   "execution_count": 4,
   "metadata": {},
   "outputs": [],
   "source": [
    "# word net import:\n",
    "\n",
    "# unmark if you want to use:\n",
    "# import wn"
   ]
  },
  {
   "cell_type": "markdown",
   "metadata": {},
   "source": [
    "### (optional) Hebrew text analysis - hebrew_tokenizer (Tokenizer for Hebrew)\n",
    "Note: the hebrew_tokenizer is not a must"
   ]
  },
  {
   "cell_type": "markdown",
   "metadata": {},
   "source": [
    "#### (optional) Only if you didn't install hebrew_tokenizer use:"
   ]
  },
  {
   "cell_type": "code",
   "execution_count": 5,
   "metadata": {},
   "outputs": [],
   "source": [
    "# Hebrew tokenizer installation:\n",
    "\n",
    "# unmark if you want to use and need to install:\n",
    "# !pip install hebrew_tokenizer"
   ]
  },
  {
   "cell_type": "code",
   "execution_count": 6,
   "metadata": {},
   "outputs": [],
   "source": [
    "# Hebrew tokenizer import:\n",
    "\n",
    "# unmark if you want to use:\n",
    "# import hebrew_tokenizer as ht"
   ]
  },
  {
   "cell_type": "markdown",
   "metadata": {},
   "source": [
    "### Reading input files\n",
    "Reading input files for train annotated corpus (raw text data) corpus and for the test corpus"
   ]
  },
  {
   "cell_type": "code",
   "execution_count": 7,
   "metadata": {},
   "outputs": [],
   "source": [
    "train_filename = 'annotated_corpus_for_train.csv'\n",
    "test_filename  = 'corpus_for_test.csv'\n",
    "df_train = pd.read_csv(train_filename, index_col=None, encoding='utf-8')\n",
    "df_test  = pd.read_csv(test_filename, index_col=None, encoding='utf-8')"
   ]
  },
  {
   "cell_type": "code",
   "execution_count": 8,
   "metadata": {},
   "outputs": [
    {
     "data": {
      "text/html": [
       "<div>\n",
       "<style scoped>\n",
       "    .dataframe tbody tr th:only-of-type {\n",
       "        vertical-align: middle;\n",
       "    }\n",
       "\n",
       "    .dataframe tbody tr th {\n",
       "        vertical-align: top;\n",
       "    }\n",
       "\n",
       "    .dataframe thead th {\n",
       "        text-align: right;\n",
       "    }\n",
       "</style>\n",
       "<table border=\"1\" class=\"dataframe\">\n",
       "  <thead>\n",
       "    <tr style=\"text-align: right;\">\n",
       "      <th></th>\n",
       "      <th>story</th>\n",
       "      <th>gender</th>\n",
       "    </tr>\n",
       "  </thead>\n",
       "  <tbody>\n",
       "    <tr>\n",
       "      <th>0</th>\n",
       "      <td>כשחבר הזמין אותי לחול, לא באמת חשבתי שזה יקרה,...</td>\n",
       "      <td>m</td>\n",
       "    </tr>\n",
       "    <tr>\n",
       "      <th>1</th>\n",
       "      <td>לפני שהתגייסתי לצבא עשיתי כל מני מיונים ליחידו...</td>\n",
       "      <td>m</td>\n",
       "    </tr>\n",
       "    <tr>\n",
       "      <th>2</th>\n",
       "      <td>מאז שהתחילו הלימודים חלומו של כל סטודנט זה הפנ...</td>\n",
       "      <td>f</td>\n",
       "    </tr>\n",
       "    <tr>\n",
       "      <th>3</th>\n",
       "      <td>כשהייתי ילד, מטוסים היה הדבר שהכי ריתק אותי. ב...</td>\n",
       "      <td>m</td>\n",
       "    </tr>\n",
       "    <tr>\n",
       "      <th>4</th>\n",
       "      <td>‏הייתי מדריכה בכפר נוער ומתאם הכפר היינו צריכי...</td>\n",
       "      <td>f</td>\n",
       "    </tr>\n",
       "    <tr>\n",
       "      <th>5</th>\n",
       "      <td>לפני כ3 חודשים טסתי לרומא למשך שבוע. טסתי במטו...</td>\n",
       "      <td>f</td>\n",
       "    </tr>\n",
       "    <tr>\n",
       "      <th>6</th>\n",
       "      <td>אני כבר שנתיים נשוי והשנה אני ואישתי סוף סוף י...</td>\n",
       "      <td>m</td>\n",
       "    </tr>\n",
       "    <tr>\n",
       "      <th>7</th>\n",
       "      <td>השנה התחלנו שיפוץ בדירה שלנו בתל אביב. הדירה ה...</td>\n",
       "      <td>f</td>\n",
       "    </tr>\n",
       "  </tbody>\n",
       "</table>\n",
       "</div>"
      ],
      "text/plain": [
       "                                               story gender\n",
       "0  כשחבר הזמין אותי לחול, לא באמת חשבתי שזה יקרה,...      m\n",
       "1  לפני שהתגייסתי לצבא עשיתי כל מני מיונים ליחידו...      m\n",
       "2  מאז שהתחילו הלימודים חלומו של כל סטודנט זה הפנ...      f\n",
       "3  כשהייתי ילד, מטוסים היה הדבר שהכי ריתק אותי. ב...      m\n",
       "4  ‏הייתי מדריכה בכפר נוער ומתאם הכפר היינו צריכי...      f\n",
       "5  לפני כ3 חודשים טסתי לרומא למשך שבוע. טסתי במטו...      f\n",
       "6  אני כבר שנתיים נשוי והשנה אני ואישתי סוף סוף י...      m\n",
       "7  השנה התחלנו שיפוץ בדירה שלנו בתל אביב. הדירה ה...      f"
      ]
     },
     "execution_count": 8,
     "metadata": {},
     "output_type": "execute_result"
    },
    {
     "data": {
      "text/plain": [
       "(753, 2)"
      ]
     },
     "execution_count": 8,
     "metadata": {},
     "output_type": "execute_result"
    }
   ],
   "source": [
    "df_train.head(8)\n",
    "df_train.shape"
   ]
  },
  {
   "cell_type": "code",
   "execution_count": 9,
   "metadata": {},
   "outputs": [
    {
     "data": {
      "text/html": [
       "<div>\n",
       "<style scoped>\n",
       "    .dataframe tbody tr th:only-of-type {\n",
       "        vertical-align: middle;\n",
       "    }\n",
       "\n",
       "    .dataframe tbody tr th {\n",
       "        vertical-align: top;\n",
       "    }\n",
       "\n",
       "    .dataframe thead th {\n",
       "        text-align: right;\n",
       "    }\n",
       "</style>\n",
       "<table border=\"1\" class=\"dataframe\">\n",
       "  <thead>\n",
       "    <tr style=\"text-align: right;\">\n",
       "      <th></th>\n",
       "      <th>test_example_id</th>\n",
       "      <th>story</th>\n",
       "    </tr>\n",
       "  </thead>\n",
       "  <tbody>\n",
       "    <tr>\n",
       "      <th>0</th>\n",
       "      <td>0</td>\n",
       "      <td>כל קיץ אני והמשפחה נוסעים לארצות הברית לוס אנג...</td>\n",
       "    </tr>\n",
       "    <tr>\n",
       "      <th>1</th>\n",
       "      <td>1</td>\n",
       "      <td>הגעתי לשירות המדינה אחרי שנתיים כפעיל בתנועת \"...</td>\n",
       "    </tr>\n",
       "    <tr>\n",
       "      <th>2</th>\n",
       "      <td>2</td>\n",
       "      <td>אחת האהבות הגדולות שלי אלו הכלבים שלי ושל אישת...</td>\n",
       "    </tr>\n",
       "  </tbody>\n",
       "</table>\n",
       "</div>"
      ],
      "text/plain": [
       "   test_example_id                                              story\n",
       "0                0  כל קיץ אני והמשפחה נוסעים לארצות הברית לוס אנג...\n",
       "1                1  הגעתי לשירות המדינה אחרי שנתיים כפעיל בתנועת \"...\n",
       "2                2  אחת האהבות הגדולות שלי אלו הכלבים שלי ושל אישת..."
      ]
     },
     "execution_count": 9,
     "metadata": {},
     "output_type": "execute_result"
    },
    {
     "data": {
      "text/plain": [
       "(323, 2)"
      ]
     },
     "execution_count": 9,
     "metadata": {},
     "output_type": "execute_result"
    }
   ],
   "source": [
    "df_test.head(3)\n",
    "df_test.shape"
   ]
  },
  {
   "cell_type": "markdown",
   "metadata": {},
   "source": [
    "### Your implementation:\n",
    "Write your code solution in the following code-cells"
   ]
  },
  {
   "cell_type": "code",
   "execution_count": 10,
   "metadata": {},
   "outputs": [],
   "source": [
    "from sklearn.linear_model import LogisticRegression\n",
    "from sklearn.metrics import make_scorer\n",
    "from sklearn.base import clone"
   ]
  },
  {
   "cell_type": "markdown",
   "metadata": {},
   "source": [
    "To build the best model to predict the writers' gender in a dataset, the dataset has to go through several stages of preparation: \n",
    "- Preprocessing - cleaning the data from unnecessary characters.\n",
    "- Vectorization - converting the texts to feature vectors.\n",
    "- Evaluation - evaluation the average f1 score for female and male, and the f1 scores for the genders separately.\n",
    "- Prediction - using the model to predict the test set"
   ]
  },
  {
   "cell_type": "markdown",
   "metadata": {},
   "source": [
    "## First Step - Preprocessing\n",
    "To keep all the Hebrew characters, I created a function that removes any character that is not a Hebrew letter."
   ]
  },
  {
   "cell_type": "code",
   "execution_count": 11,
   "metadata": {},
   "outputs": [],
   "source": [
    "# YOUR CODE HERE\n",
    "def clean_text(df_train):\n",
    "    df_copy = df_train.copy()\n",
    "    stories_lst = list(df_copy[\"story\"])\n",
    "    for index, txt in enumerate(stories_lst):\n",
    "        tmp_txt = \"\"\n",
    "        for c in txt:\n",
    "            if (c >= 'א' and c <= 'ת') or c == ' ':\n",
    "                tmp_txt += c\n",
    "\n",
    "        stories_lst[index] = tmp_txt\n",
    "    df_copy[\"story\"] = stories_lst\n",
    "    return df_copy"
   ]
  },
  {
   "cell_type": "markdown",
   "metadata": {},
   "source": [
    "## Second Step - Vectorization\n",
    "In the vectorization process of text features we need to convert text to a set of representative numerical values so i used TfidfVectorizer and CountVectorizer."
   ]
  },
  {
   "cell_type": "code",
   "execution_count": 12,
   "metadata": {},
   "outputs": [],
   "source": [
    "# YOUR CODE HERE\n",
    "def tfidf_vectorization(min_df, max_df, ngrams, train_df):\n",
    "    vec = TfidfVectorizer(max_df=max_df, min_df=min_df, ngram_range=ngrams)\n",
    "    X_train = vec.fit_transform(train_df[\"story\"])\n",
    "    X_train_df = pd.DataFrame(X_train.toarray(), columns=vec.get_feature_names_out())\n",
    "    X_train_df[\"gender\"] = df_train[\"gender\"]\n",
    "    return vec, X_train_df\n",
    "\n",
    "def count_vectorization(min_df, max_df, ngrams, train_df):\n",
    "    vec = CountVectorizer(max_df=max_df, min_df=min_df, ngram_range=ngrams)\n",
    "    X_train = vec.fit_transform(train_df[\"story\"])\n",
    "    X_train_df = pd.DataFrame(X_train.toarray(), columns=vec.get_feature_names_out())\n",
    "    X_train_df[\"gender\"] = df_train[\"gender\"]\n",
    "    return vec, X_train_df"
   ]
  },
  {
   "cell_type": "markdown",
   "metadata": {},
   "source": [
    "## Third Step - Evaluation\n",
    "The evaluation metric is measured by f1 score, I evaluate the average f1 score by calculating the f1 score for female and the f1 score for male.\n",
    "To get the f1 score for each gender separately, I duplicate the target column, the \"gender\" column. In one of the duplicates, the \"f\" is labled 0 and \"m\" is 1, in the other the \"f\" is labaled 1 and \"m\" is 0."
   ]
  },
  {
   "cell_type": "code",
   "execution_count": 13,
   "metadata": {},
   "outputs": [],
   "source": [
    "def female_male_split_data(X_train_df):\n",
    "    X_train_male = X_train_df.copy()\n",
    "    X_train_female = X_train_df.copy()\n",
    "\n",
    "    X_train_male[\"gender\"] = np.where(X_train_male[\"gender\"] == 'f', 0, 1)\n",
    "    X_train_female[\"gender\"] = np.where(X_train_female[\"gender\"] == 'f', 1, 0)\n",
    "\n",
    "    target_columns = X_train_df.columns[X_train_df.columns != \"gender\"]\n",
    "    X_train = X_train_df[target_columns]\n",
    "\n",
    "    y_male = X_train_male[\"gender\"]\n",
    "    y_female = X_train_female[\"gender\"]\n",
    "    return X_train, y_male, y_female"
   ]
  },
  {
   "cell_type": "markdown",
   "metadata": {},
   "source": [
    "Now that the data is splitted, I get the best params for the model with GridSearchCV, and get the f1 score for each gender with cross_val_score; this calculate the f1 average."
   ]
  },
  {
   "cell_type": "code",
   "execution_count": 14,
   "metadata": {},
   "outputs": [],
   "source": [
    "# YOUR CODE HERE\n",
    "def f1_calculation(model, param, X_train, y_male, y_female):\n",
    "    clf = GridSearchCV(model, param, scoring=make_scorer(f1_score), cv=5, n_jobs=-1)\n",
    "    clf.fit(X_train, y_male)\n",
    "    best_params_male = clf.best_params_\n",
    "\n",
    "    clf.fit(X_train, y_female)\n",
    "    best_params_female = clf.best_params_\n",
    "\n",
    "    model.set_params(**best_params_male)\n",
    "    f1_score_male = cross_val_score(model, X_train, y_male, scoring=make_scorer(f1_score), cv=5).mean()\n",
    "\n",
    "    model.set_params(**best_params_female)\n",
    "    f1_score_female = cross_val_score(model, X_train, y_female, scoring=make_scorer(f1_score), cv=5).mean()\n",
    "\n",
    "    f1_average = (f1_score_male + f1_score_female) / 2\n",
    "    \n",
    "    return f1_score_male, f1_score_female, f1_average,model, best_params_male"
   ]
  },
  {
   "cell_type": "markdown",
   "metadata": {},
   "source": [
    "## Forth Step - Prediction\n",
    "The last step is to activate the best model on the test set, df_test. First, the test set go through the same preprocessing as the train set to clean it's data, and then the model can predict the genders."
   ]
  },
  {
   "cell_type": "code",
   "execution_count": 15,
   "metadata": {},
   "outputs": [],
   "source": [
    "def predict_test_df(model,vectorizer,df_test,X_train,y_train,best_params):\n",
    "    full_txt = clean_text(df_test)\n",
    "    \n",
    "    df_test_vec = vectorizer.transform(full_txt[\"story\"])\n",
    "    X_test_df = pd.DataFrame(df_test_vec.toarray(), columns=vectorizer.get_feature_names_out())\n",
    "\n",
    "    model.set_params(**best_params)\n",
    "    clf = model.fit(X_train,y_train)\n",
    "    y_pred = clf.predict(X_test_df)\n",
    "    \n",
    "    y_pred = np.where(y_pred == 1,'m','f')\n",
    "    pred_df = df_test.copy()\n",
    "    pred_df[\"gender\"] = y_pred\n",
    "    return pred_df\n",
    "    "
   ]
  },
  {
   "cell_type": "markdown",
   "metadata": {},
   "source": [
    "# Main\n",
    "### Setting the Models\n",
    "I chose three models and their best params to get the best result to train and predict. The models are KNeighborsClassifier, MultinomialNB and LogisticRegression, where MultinomialNB is a probabilistic model used for multi-class classification that assumes features have discrete multinomial distributions and calculates class probabilities using Bayes' theorem, and LogisticRegression is a statistical model used for binary classification that estimates the probability of an outcome based on input features using a logistic function."
   ]
  },
  {
   "cell_type": "code",
   "execution_count": 16,
   "metadata": {},
   "outputs": [],
   "source": [
    "# Add as many code cells as you need\n",
    "# YOUR CODE HERE\n",
    "grid_params = {\n",
    "        'grid_param_logistic': {\n",
    "        'penalty': ['l1', 'l2'],\n",
    "        'C': [0.01, 0.1, 1.0, 10.0, 100.0],\n",
    "        'solver': ['lbfgs', 'newton-cg', 'liblinear'],\n",
    "        'class_weight': [{0: 1, 1: 1}, {0: 1, 1: 3}, {0: 1, 1: 5}],\n",
    "        'random_state': [41, 42],\n",
    "        'max_iter': [1000, 2000]\n",
    "    },\n",
    "\n",
    "    'param_grid_NB' : {\n",
    "        'alpha': [0.01, 0.1, 1.0, 10.0, 100.0],\n",
    "        'fit_prior': [True, False],\n",
    "        'class_prior': [None, [0.2, 0.8], [0.3, 0.7], [0.4, 0.6], [0.5, 0.5], [0.6, 0.4], [0.7, 0.3], [0.8, 0.2], [0.9, 0.1]]\n",
    "    },\n",
    "\n",
    "    'param_grid_KNN': {'n_neighbors':range(1,25,2)}}\n",
    "\n",
    "models = {'LogisticRegression': LogisticRegression(),\n",
    "          'MultinomialNB': MultinomialNB(),\n",
    "          'KNeighborsClassifier': KNeighborsClassifier()}\n",
    "\n",
    "f1_results = []\n"
   ]
  },
  {
   "cell_type": "markdown",
   "metadata": {},
   "source": [
    "### Calculating The Models' F1 Scores\n",
    "Using the functions above to calculate the models' f1 score average with CountVectorizer and TfidfVectorizer."
   ]
  },
  {
   "cell_type": "code",
   "execution_count": 17,
   "metadata": {},
   "outputs": [
    {
     "name": "stdout",
     "output_type": "stream",
     "text": [
      "CountVectorizer: \n",
      "\n",
      "LogisticRegression()\n",
      "\n",
      "The Used:  LogisticRegression(C=0.01, class_weight={0: 1, 1: 5}, max_iter=1000,\n",
      "                   random_state=41, solver='liblinear') \n",
      "\n",
      "f1 male:  0.8866496675900954\n",
      "f1 female:  0.5745444047277307\n",
      "f1 average:  0.7305970361589131\n",
      "MultinomialNB()\n",
      "\n",
      "The Used:  MultinomialNB(class_prior=[0.2, 0.8]) \n",
      "\n",
      "f1 male:  0.886145134030806\n",
      "f1 female:  0.5392957433048704\n",
      "f1 average:  0.7127204386678382\n",
      "KNeighborsClassifier()\n",
      "\n",
      "The Used:  KNeighborsClassifier(n_neighbors=1) \n",
      "\n",
      "f1 male:  0.8666243223840044\n",
      "f1 female:  0.26671159029649594\n",
      "f1 average:  0.5666679563402501\n"
     ]
    }
   ],
   "source": [
    "print(\"CountVectorizer: \\n\")\n",
    "full_data = clean_text(df_train.copy())\n",
    "vec_model, vec_cv_df = count_vectorization(5, 1.0, (1,3), full_data.copy())\n",
    "\n",
    "X_train, y_male, y_female = female_male_split_data(vec_cv_df.copy())\n",
    "\n",
    "f1_score_male, f1_score_female, f1_average, model, best_params_male = f1_calculation(clone(models['LogisticRegression']), grid_params['grid_param_logistic'], X_train.copy(), y_male, y_female)\n",
    "print(models['LogisticRegression'])\n",
    "print(\"\\nThe Used: \", model, \"\\n\")\n",
    "print(\"f1 male: \", f1_score_male)\n",
    "print(\"f1 female: \", f1_score_female)\n",
    "print(\"f1 average: \", f1_average)\n",
    "f1_results.append({'vectorizer':vec_model,'model':clone(models['LogisticRegression']), 'result': f1_average, 'best_params_male': best_params_male})\n",
    "\n",
    "f1_score_male, f1_score_female, f1_average, model, best_params_male = f1_calculation(clone(models['MultinomialNB']), grid_params['param_grid_NB'], X_train.copy(), y_male, y_female)\n",
    "print(models['MultinomialNB'])\n",
    "print(\"\\nThe Used: \", model, \"\\n\")\n",
    "print(\"f1 male: \", f1_score_male)\n",
    "print(\"f1 female: \", f1_score_female)\n",
    "print(\"f1 average: \", f1_average)\n",
    "f1_results.append({'vectorizer':vec_model,'model':clone(models['MultinomialNB']), 'result': f1_average,'best_params_male': best_params_male,})\n",
    "\n",
    "f1_score_male, f1_score_female, f1_average, model, best_params_male = f1_calculation(clone(models['KNeighborsClassifier']), grid_params['param_grid_KNN'], X_train.copy(), y_male, y_female)\n",
    "print(models['KNeighborsClassifier'])\n",
    "print(\"\\nThe Used: \", model, \"\\n\")\n",
    "print(\"f1 male: \", f1_score_male)\n",
    "print(\"f1 female: \", f1_score_female)\n",
    "print(\"f1 average: \", f1_average)\n",
    "f1_results.append({'vectorizer':vec_model,'model':clone(models['KNeighborsClassifier']), 'result': f1_average,'best_params_male': best_params_male})"
   ]
  },
  {
   "cell_type": "code",
   "execution_count": 18,
   "metadata": {},
   "outputs": [
    {
     "name": "stdout",
     "output_type": "stream",
     "text": [
      "TfidfVectorizer: \n",
      "\n",
      "LogisticRegression()\n",
      "\n",
      "The Used:  LogisticRegression(class_weight={0: 1, 1: 5}, max_iter=1000, random_state=41,\n",
      "                   solver='liblinear') \n",
      "\n",
      "f1 male:  0.8898893099752037\n",
      "f1 female:  0.5917145518937821\n",
      "f1 average:  0.7408019309344929\n",
      "MultinomialNB()\n",
      "\n",
      "The Used:  MultinomialNB(alpha=0.1, class_prior=[0.4, 0.6]) \n",
      "\n",
      "f1 male:  0.8857013607299683\n",
      "f1 female:  0.5773899388394426\n",
      "f1 average:  0.7315456497847055\n",
      "KNeighborsClassifier()\n",
      "\n",
      "The Used:  KNeighborsClassifier(n_neighbors=1) \n",
      "\n",
      "f1 male:  0.8682678317349819\n",
      "f1 female:  0.44637724832846787\n",
      "f1 average:  0.6573225400317249\n"
     ]
    }
   ],
   "source": [
    "print(\"TfidfVectorizer: \\n\")\n",
    "full_data = clean_text(df_train.copy())\n",
    "vec_model, vec_tfidf_df = tfidf_vectorization(5, 1.0, (1,3), full_data.copy())\n",
    "\n",
    "X_train, y_male, y_female = female_male_split_data(vec_tfidf_df.copy())\n",
    "\n",
    "f1_score_male, f1_score_female, f1_average, model, best_params_male = f1_calculation(clone(models['LogisticRegression']), grid_params['grid_param_logistic'], X_train.copy(), y_male, y_female)\n",
    "print(models['LogisticRegression'])\n",
    "print(\"\\nThe Used: \", model, \"\\n\")\n",
    "print(\"f1 male: \", f1_score_male)\n",
    "print(\"f1 female: \", f1_score_female)\n",
    "print(\"f1 average: \", f1_average)\n",
    "f1_results.append({'vectorizer':vec_model,'model':clone(models['LogisticRegression']), 'result': f1_average, 'best_params_male': best_params_male})\n",
    "\n",
    "f1_score_male, f1_score_female, f1_average, model, best_params_male = f1_calculation(clone(models['MultinomialNB']), grid_params['param_grid_NB'], X_train.copy(), y_male, y_female)\n",
    "print(models['MultinomialNB'])\n",
    "print(\"\\nThe Used: \", model, \"\\n\")\n",
    "print(\"f1 male: \", f1_score_male)\n",
    "print(\"f1 female: \", f1_score_female)\n",
    "print(\"f1 average: \", f1_average)\n",
    "f1_results.append({'vectorizer':vec_model,'model':clone(models['MultinomialNB']), 'result': f1_average,'best_params_male': best_params_male})\n",
    "\n",
    "f1_score_male, f1_score_female, f1_average, model, best_params_male = f1_calculation(clone(models['KNeighborsClassifier']), grid_params['param_grid_KNN'], X_train.copy(), y_male, y_female)\n",
    "print(models['KNeighborsClassifier'])\n",
    "print(\"\\nThe Used: \", model, \"\\n\")\n",
    "print(\"f1 male: \", f1_score_male)\n",
    "print(\"f1 female: \", f1_score_female)\n",
    "print(\"f1 average: \", f1_average)\n",
    "f1_results.append({'vectorizer':vec_model,'model':clone(models['KNeighborsClassifier']), 'result': f1_average,'best_params_male': best_params_male})\n"
   ]
  },
  {
   "cell_type": "markdown",
   "metadata": {},
   "source": [
    "##### show the list of results"
   ]
  },
  {
   "cell_type": "code",
   "execution_count": 19,
   "metadata": {},
   "outputs": [
    {
     "data": {
      "text/plain": [
       "[{'vectorizer': CountVectorizer(min_df=5, ngram_range=(1, 3)),\n",
       "  'model': LogisticRegression(),\n",
       "  'result': 0.7305970361589131,\n",
       "  'best_params_male': {'C': 100.0,\n",
       "   'class_weight': {0: 1, 1: 5},\n",
       "   'max_iter': 1000,\n",
       "   'penalty': 'l1',\n",
       "   'random_state': 41,\n",
       "   'solver': 'liblinear'}},\n",
       " {'vectorizer': CountVectorizer(min_df=5, ngram_range=(1, 3)),\n",
       "  'model': MultinomialNB(),\n",
       "  'result': 0.7127204386678382,\n",
       "  'best_params_male': {'alpha': 0.1,\n",
       "   'class_prior': [0.9, 0.1],\n",
       "   'fit_prior': True}},\n",
       " {'vectorizer': CountVectorizer(min_df=5, ngram_range=(1, 3)),\n",
       "  'model': KNeighborsClassifier(),\n",
       "  'result': 0.5666679563402501,\n",
       "  'best_params_male': {'n_neighbors': 17}},\n",
       " {'vectorizer': TfidfVectorizer(min_df=5, ngram_range=(1, 3)),\n",
       "  'model': LogisticRegression(),\n",
       "  'result': 0.7408019309344929,\n",
       "  'best_params_male': {'C': 100.0,\n",
       "   'class_weight': {0: 1, 1: 5},\n",
       "   'max_iter': 1000,\n",
       "   'penalty': 'l1',\n",
       "   'random_state': 41,\n",
       "   'solver': 'liblinear'}},\n",
       " {'vectorizer': TfidfVectorizer(min_df=5, ngram_range=(1, 3)),\n",
       "  'model': MultinomialNB(),\n",
       "  'result': 0.7315456497847055,\n",
       "  'best_params_male': {'alpha': 0.01,\n",
       "   'class_prior': [0.7, 0.3],\n",
       "   'fit_prior': True}},\n",
       " {'vectorizer': TfidfVectorizer(min_df=5, ngram_range=(1, 3)),\n",
       "  'model': KNeighborsClassifier(),\n",
       "  'result': 0.6573225400317249,\n",
       "  'best_params_male': {'n_neighbors': 17}}]"
      ]
     },
     "execution_count": 19,
     "metadata": {},
     "output_type": "execute_result"
    }
   ],
   "source": [
    "f1_results"
   ]
  },
  {
   "cell_type": "markdown",
   "metadata": {},
   "source": [
    "##### finding the best result from the list\n"
   ]
  },
  {
   "cell_type": "code",
   "execution_count": 20,
   "metadata": {},
   "outputs": [
    {
     "name": "stdout",
     "output_type": "stream",
     "text": [
      "{'vectorizer': TfidfVectorizer(min_df=5, ngram_range=(1, 3)), 'model': LogisticRegression(), 'result': 0.7408019309344929, 'best_params_male': {'C': 100.0, 'class_weight': {0: 1, 1: 5}, 'max_iter': 1000, 'penalty': 'l1', 'random_state': 41, 'solver': 'liblinear'}}\n"
     ]
    }
   ],
   "source": [
    "max_result = {'vectorizer': \"\",'model':\"\", 'result': 0}\n",
    "for result in f1_results:\n",
    "    if result['result'] > max_result['result']:\n",
    "        max_result = result\n",
    "print(max_result)"
   ]
  },
  {
   "cell_type": "markdown",
   "metadata": {},
   "source": [
    "#### Predicting the gender\n",
    "calling the prediction method on the test dataframe and returning the test dataframe with the predicted labels. at the end I'm presenting the 5 first and 5 last results."
   ]
  },
  {
   "cell_type": "code",
   "execution_count": 21,
   "metadata": {},
   "outputs": [],
   "source": [
    "pred_df = predict_test_df(max_result['model'],max_result['vectorizer'],df_test.copy(), X_train.copy(), y_male,max_result['best_params_male'])"
   ]
  },
  {
   "cell_type": "code",
   "execution_count": 22,
   "metadata": {},
   "outputs": [
    {
     "data": {
      "text/html": [
       "<div>\n",
       "<style scoped>\n",
       "    .dataframe tbody tr th:only-of-type {\n",
       "        vertical-align: middle;\n",
       "    }\n",
       "\n",
       "    .dataframe tbody tr th {\n",
       "        vertical-align: top;\n",
       "    }\n",
       "\n",
       "    .dataframe thead th {\n",
       "        text-align: right;\n",
       "    }\n",
       "</style>\n",
       "<table border=\"1\" class=\"dataframe\">\n",
       "  <thead>\n",
       "    <tr style=\"text-align: right;\">\n",
       "      <th></th>\n",
       "      <th>test_example_id</th>\n",
       "      <th>story</th>\n",
       "      <th>gender</th>\n",
       "    </tr>\n",
       "  </thead>\n",
       "  <tbody>\n",
       "    <tr>\n",
       "      <th>0</th>\n",
       "      <td>0</td>\n",
       "      <td>כל קיץ אני והמשפחה נוסעים לארצות הברית לוס אנג...</td>\n",
       "      <td>m</td>\n",
       "    </tr>\n",
       "    <tr>\n",
       "      <th>1</th>\n",
       "      <td>1</td>\n",
       "      <td>הגעתי לשירות המדינה אחרי שנתיים כפעיל בתנועת \"...</td>\n",
       "      <td>m</td>\n",
       "    </tr>\n",
       "    <tr>\n",
       "      <th>2</th>\n",
       "      <td>2</td>\n",
       "      <td>אחת האהבות הגדולות שלי אלו הכלבים שלי ושל אישת...</td>\n",
       "      <td>m</td>\n",
       "    </tr>\n",
       "    <tr>\n",
       "      <th>3</th>\n",
       "      <td>3</td>\n",
       "      <td>רגע הגיוס לצבא היה הרגע הכי משמעותי עבורי, אני...</td>\n",
       "      <td>m</td>\n",
       "    </tr>\n",
       "    <tr>\n",
       "      <th>4</th>\n",
       "      <td>4</td>\n",
       "      <td>אני הגעתי לברזיל ישר מקולומביה וגם אני עשיתי ע...</td>\n",
       "      <td>m</td>\n",
       "    </tr>\n",
       "  </tbody>\n",
       "</table>\n",
       "</div>"
      ],
      "text/plain": [
       "   test_example_id                                              story gender\n",
       "0                0  כל קיץ אני והמשפחה נוסעים לארצות הברית לוס אנג...      m\n",
       "1                1  הגעתי לשירות המדינה אחרי שנתיים כפעיל בתנועת \"...      m\n",
       "2                2  אחת האהבות הגדולות שלי אלו הכלבים שלי ושל אישת...      m\n",
       "3                3  רגע הגיוס לצבא היה הרגע הכי משמעותי עבורי, אני...      m\n",
       "4                4  אני הגעתי לברזיל ישר מקולומביה וגם אני עשיתי ע...      m"
      ]
     },
     "execution_count": 22,
     "metadata": {},
     "output_type": "execute_result"
    },
    {
     "data": {
      "text/html": [
       "<div>\n",
       "<style scoped>\n",
       "    .dataframe tbody tr th:only-of-type {\n",
       "        vertical-align: middle;\n",
       "    }\n",
       "\n",
       "    .dataframe tbody tr th {\n",
       "        vertical-align: top;\n",
       "    }\n",
       "\n",
       "    .dataframe thead th {\n",
       "        text-align: right;\n",
       "    }\n",
       "</style>\n",
       "<table border=\"1\" class=\"dataframe\">\n",
       "  <thead>\n",
       "    <tr style=\"text-align: right;\">\n",
       "      <th></th>\n",
       "      <th>test_example_id</th>\n",
       "      <th>story</th>\n",
       "      <th>gender</th>\n",
       "    </tr>\n",
       "  </thead>\n",
       "  <tbody>\n",
       "    <tr>\n",
       "      <th>318</th>\n",
       "      <td>318</td>\n",
       "      <td>בשנה האחרונה הרגשתי די תקוע בעבודה, השגרה הפכה...</td>\n",
       "      <td>m</td>\n",
       "    </tr>\n",
       "    <tr>\n",
       "      <th>319</th>\n",
       "      <td>319</td>\n",
       "      <td>אני ואילן חברים טובים מזה 20 שנה תמיד חלמנו לפ...</td>\n",
       "      <td>m</td>\n",
       "    </tr>\n",
       "    <tr>\n",
       "      <th>320</th>\n",
       "      <td>320</td>\n",
       "      <td>מידי יום שישי אני נוהג לנסוע בתחבורה ציבורית ס...</td>\n",
       "      <td>m</td>\n",
       "    </tr>\n",
       "    <tr>\n",
       "      <th>321</th>\n",
       "      <td>321</td>\n",
       "      <td>לפני מספר חודשים, בשיא התחלואה של הגל השני, עמ...</td>\n",
       "      <td>m</td>\n",
       "    </tr>\n",
       "    <tr>\n",
       "      <th>322</th>\n",
       "      <td>322</td>\n",
       "      <td>היום בו דיווחתי על גניבה של האוטו שלי. בוקר אח...</td>\n",
       "      <td>m</td>\n",
       "    </tr>\n",
       "  </tbody>\n",
       "</table>\n",
       "</div>"
      ],
      "text/plain": [
       "     test_example_id                                              story gender\n",
       "318              318  בשנה האחרונה הרגשתי די תקוע בעבודה, השגרה הפכה...      m\n",
       "319              319  אני ואילן חברים טובים מזה 20 שנה תמיד חלמנו לפ...      m\n",
       "320              320  מידי יום שישי אני נוהג לנסוע בתחבורה ציבורית ס...      m\n",
       "321              321  לפני מספר חודשים, בשיא התחלואה של הגל השני, עמ...      m\n",
       "322              322  היום בו דיווחתי על גניבה של האוטו שלי. בוקר אח...      m"
      ]
     },
     "execution_count": 22,
     "metadata": {},
     "output_type": "execute_result"
    }
   ],
   "source": [
    "pred_df.head()\n",
    "pred_df.tail()"
   ]
  },
  {
   "cell_type": "code",
   "execution_count": 23,
   "metadata": {},
   "outputs": [
    {
     "data": {
      "text/plain": [
       "m    262\n",
       "f     61\n",
       "Name: gender, dtype: int64"
      ]
     },
     "execution_count": 23,
     "metadata": {},
     "output_type": "execute_result"
    }
   ],
   "source": [
    "pred_df[\"gender\"].value_counts()"
   ]
  },
  {
   "cell_type": "code",
   "execution_count": null,
   "metadata": {},
   "outputs": [],
   "source": []
  },
  {
   "cell_type": "markdown",
   "metadata": {},
   "source": [
    "### Save output to csv (optional)\n",
    "After you're done save your output to the 'classification_results.csv' csv file.<br/>\n",
    "We assume that the dataframe with your results contain the following columns:\n",
    "* column 1 (left column): 'test_example_id'  - the same id associated to each of the test stories to be predicted.\n",
    "* column 2 (right column): 'predicted_category' - the predicted gender value for each of the associated story. \n",
    "\n",
    "Assuming your predicted values are in the `df_predicted` dataframe, you should save you're results as following:"
   ]
  },
  {
   "cell_type": "code",
   "execution_count": 1,
   "metadata": {},
   "outputs": [],
   "source": [
    "df_predicted.to_csv('classification_results.csv',index=False)"
   ]
  }
 ],
 "metadata": {
  "celltoolbar": "Create Assignment",
  "kernelspec": {
   "display_name": "Python 3 (ipykernel)",
   "language": "python",
   "name": "python3"
  },
  "language_info": {
   "codemirror_mode": {
    "name": "ipython",
    "version": 3
   },
   "file_extension": ".py",
   "mimetype": "text/x-python",
   "name": "python",
   "nbconvert_exporter": "python",
   "pygments_lexer": "ipython3",
   "version": "3.9.13"
  }
 },
 "nbformat": 4,
 "nbformat_minor": 4
}
